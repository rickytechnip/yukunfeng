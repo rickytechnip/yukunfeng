{
 "cells": [
  {
   "cell_type": "code",
   "execution_count": 1,
   "metadata": {},
   "outputs": [],
   "source": [
    "import numpy as np\n",
    "import pandas as pd\n",
    "import matplotlib.pyplot as plt\n",
    "from sklearn.neural_network import MLPClassifier\n",
    "from sklearn.metrics import confusion_matrix, plot_confusion_matrix, classification_report\n",
    "from sklearn.metrics import accuracy_score, f1_score"
   ]
  },
  {
   "cell_type": "code",
   "execution_count": 2,
   "metadata": {},
   "outputs": [],
   "source": [
    "ds = 2\n",
    "\n",
    "info = pd.read_csv('data/info_{0}.csv'. format(ds), index_col=0)\n",
    "train_data = pd.read_csv('data/train_{0}.csv'.format(ds), header=None)\n",
    "test_data = pd.read_csv('data/test_with_label_{0}.csv'.format(ds), header=None)\n",
    "\n",
    "model_name = 'Base-MLP'\n",
    "output_csv = \"output/{0}-DS{1}.csv\".format(model_name, ds)"
   ]
  },
  {
   "cell_type": "code",
   "execution_count": 3,
   "metadata": {},
   "outputs": [],
   "source": [
    "# Data definitions\n",
    "X_train = train_data.iloc[:, :-1]\n",
    "y_train = train_data.iloc[:, -1]\n",
    "X_test = test_data.iloc[:, :-1]\n",
    "y_test = test_data.iloc[:, -1]"
   ]
  },
  {
   "cell_type": "code",
   "execution_count": 4,
   "metadata": {},
   "outputs": [
    {
     "name": "stderr",
     "output_type": "stream",
     "text": [
      "/home/yuxiang/.local/lib/python3.8/site-packages/sklearn/neural_network/_multilayer_perceptron.py:582: ConvergenceWarning: Stochastic Optimizer: Maximum iterations (200) reached and the optimization hasn't converged yet.\n",
      "  warnings.warn(\n"
     ]
    },
    {
     "data": {
      "text/plain": [
       "MLPClassifier(activation='logistic', random_state=42, solver='sgd')"
      ]
     },
     "execution_count": 4,
     "metadata": {},
     "output_type": "execute_result"
    }
   ],
   "source": [
    "clf = MLPClassifier(hidden_layer_sizes = (100,),\n",
    "                    activation = 'logistic',\n",
    "                    solver = 'sgd',\n",
    "                    random_state=42)\n",
    "clf.fit(X_train, y_train)"
   ]
  },
  {
   "cell_type": "code",
   "execution_count": 5,
   "metadata": {},
   "outputs": [],
   "source": [
    "y_pred = pd.Series(clf.predict(X_test))"
   ]
  },
  {
   "cell_type": "code",
   "execution_count": 6,
   "metadata": {},
   "outputs": [
    {
     "data": {
      "text/plain": [
       "0      9\n",
       "1      0\n",
       "2      4\n",
       "3      5\n",
       "4      9\n",
       "      ..\n",
       "515    0\n",
       "516    1\n",
       "517    9\n",
       "518    6\n",
       "519    5\n",
       "Length: 520, dtype: int64"
      ]
     },
     "execution_count": 6,
     "metadata": {},
     "output_type": "execute_result"
    }
   ],
   "source": [
    "y_pred.to_csv(output_csv, header=None)\n",
    "y_pred"
   ]
  },
  {
   "cell_type": "code",
   "execution_count": 7,
   "metadata": {},
   "outputs": [
    {
     "data": {
      "image/png": "[encoded data removed]",
      "text/plain": [
       "<Figure size 1152x720 with 2 Axes>"
      ]
     },
     "metadata": {
      "needs_background": "light"
     },
     "output_type": "display_data"
    }
   ],
   "source": [
    "outmatrix = confusion_matrix(y_test, y_pred)\n",
    "\n",
    "fig, ax = plt.subplots(figsize=(16,10))\n",
    "plot_confusion_matrix(clf, X_test, y_test, cmap='Blues', ax=ax)\n",
    "ax.set_title('MLP Confusion Matrix for Test Data Set {0}'.format(ds))\n",
    "plt.savefig('img/{0}_confusion_matrix_DS{1}'.format(model_name, ds))\n",
    "plt.show()"
   ]
  },
  {
   "cell_type": "code",
   "execution_count": 8,
   "metadata": {},
   "outputs": [
    {
     "data": {
      "text/html": [
       "<div>\n",
       "<style scoped>\n",
       "    .dataframe tbody tr th:only-of-type {\n",
       "        vertical-align: middle;\n",
       "    }\n",
       "\n",
       "    .dataframe tbody tr th {\n",
       "        vertical-align: top;\n",
       "    }\n",
       "\n",
       "    .dataframe thead th {\n",
       "        text-align: right;\n",
       "    }\n",
       "</style>\n",
       "<table border=\"1\" class=\"dataframe\">\n",
       "  <thead>\n",
       "    <tr style=\"text-align: right;\">\n",
       "      <th></th>\n",
       "      <th>symbol</th>\n",
       "      <th>precision</th>\n",
       "      <th>recall</th>\n",
       "      <th>f1-score</th>\n",
       "      <th>support</th>\n",
       "    </tr>\n",
       "  </thead>\n",
       "  <tbody>\n",
       "    <tr>\n",
       "      <th>0</th>\n",
       "      <td>pi</td>\n",
       "      <td>0.745763</td>\n",
       "      <td>0.800000</td>\n",
       "      <td>0.771930</td>\n",
       "      <td>55.000000</td>\n",
       "    </tr>\n",
       "    <tr>\n",
       "      <th>1</th>\n",
       "      <td>alpha</td>\n",
       "      <td>0.930233</td>\n",
       "      <td>0.960000</td>\n",
       "      <td>0.944882</td>\n",
       "      <td>125.000000</td>\n",
       "    </tr>\n",
       "    <tr>\n",
       "      <th>2</th>\n",
       "      <td>beta</td>\n",
       "      <td>0.777778</td>\n",
       "      <td>0.466667</td>\n",
       "      <td>0.583333</td>\n",
       "      <td>15.000000</td>\n",
       "    </tr>\n",
       "    <tr>\n",
       "      <th>3</th>\n",
       "      <td>sigma</td>\n",
       "      <td>0.909091</td>\n",
       "      <td>0.666667</td>\n",
       "      <td>0.769231</td>\n",
       "      <td>15.000000</td>\n",
       "    </tr>\n",
       "    <tr>\n",
       "      <th>4</th>\n",
       "      <td>gamma</td>\n",
       "      <td>0.743590</td>\n",
       "      <td>0.580000</td>\n",
       "      <td>0.651685</td>\n",
       "      <td>50.000000</td>\n",
       "    </tr>\n",
       "    <tr>\n",
       "      <th>5</th>\n",
       "      <td>delta</td>\n",
       "      <td>0.806452</td>\n",
       "      <td>0.909091</td>\n",
       "      <td>0.854701</td>\n",
       "      <td>55.000000</td>\n",
       "    </tr>\n",
       "    <tr>\n",
       "      <th>6</th>\n",
       "      <td>lambda</td>\n",
       "      <td>1.000000</td>\n",
       "      <td>0.333333</td>\n",
       "      <td>0.500000</td>\n",
       "      <td>15.000000</td>\n",
       "    </tr>\n",
       "    <tr>\n",
       "      <th>7</th>\n",
       "      <td>omega</td>\n",
       "      <td>1.000000</td>\n",
       "      <td>1.000000</td>\n",
       "      <td>1.000000</td>\n",
       "      <td>15.000000</td>\n",
       "    </tr>\n",
       "    <tr>\n",
       "      <th>8</th>\n",
       "      <td>mu</td>\n",
       "      <td>0.758621</td>\n",
       "      <td>0.880000</td>\n",
       "      <td>0.814815</td>\n",
       "      <td>50.000000</td>\n",
       "    </tr>\n",
       "    <tr>\n",
       "      <th>9</th>\n",
       "      <td>xi</td>\n",
       "      <td>0.827068</td>\n",
       "      <td>0.880000</td>\n",
       "      <td>0.852713</td>\n",
       "      <td>125.000000</td>\n",
       "    </tr>\n",
       "    <tr>\n",
       "      <th>10</th>\n",
       "      <td>accuracy</td>\n",
       "      <td>0.834615</td>\n",
       "      <td>0.834615</td>\n",
       "      <td>0.834615</td>\n",
       "      <td>0.834615</td>\n",
       "    </tr>\n",
       "    <tr>\n",
       "      <th>11</th>\n",
       "      <td>macro avg</td>\n",
       "      <td>0.849859</td>\n",
       "      <td>0.747576</td>\n",
       "      <td>0.774329</td>\n",
       "      <td>520.000000</td>\n",
       "    </tr>\n",
       "    <tr>\n",
       "      <th>12</th>\n",
       "      <td>weighted avg</td>\n",
       "      <td>0.837400</td>\n",
       "      <td>0.834615</td>\n",
       "      <td>0.827457</td>\n",
       "      <td>520.000000</td>\n",
       "    </tr>\n",
       "  </tbody>\n",
       "</table>\n",
       "</div>"
      ],
      "text/plain": [
       "          symbol  precision    recall  f1-score     support\n",
       "0             pi   0.745763  0.800000  0.771930   55.000000\n",
       "1          alpha   0.930233  0.960000  0.944882  125.000000\n",
       "2           beta   0.777778  0.466667  0.583333   15.000000\n",
       "3          sigma   0.909091  0.666667  0.769231   15.000000\n",
       "4          gamma   0.743590  0.580000  0.651685   50.000000\n",
       "5          delta   0.806452  0.909091  0.854701   55.000000\n",
       "6         lambda   1.000000  0.333333  0.500000   15.000000\n",
       "7          omega   1.000000  1.000000  1.000000   15.000000\n",
       "8             mu   0.758621  0.880000  0.814815   50.000000\n",
       "9             xi   0.827068  0.880000  0.852713  125.000000\n",
       "10      accuracy   0.834615  0.834615  0.834615    0.834615\n",
       "11     macro avg   0.849859  0.747576  0.774329  520.000000\n",
       "12  weighted avg   0.837400  0.834615  0.827457  520.000000"
      ]
     },
     "execution_count": 8,
     "metadata": {},
     "output_type": "execute_result"
    }
   ],
   "source": [
    "def compute_metrics(df, y_true, y_pred):\n",
    "    df_metrics = pd.DataFrame(classification_report(y_true, y_pred, target_names=df['symbol'], output_dict=True, zero_division=0)).T\n",
    "    df_metrics['symbol'] = df_metrics.index\n",
    "    df_metrics\n",
    "    return pd.merge(df, df_metrics, how='right')\n",
    "\n",
    "info = compute_metrics(info, y_test, y_pred)\n",
    "info.to_csv(output_csv, mode='a')\n",
    "info"
   ]
  },
  {
   "cell_type": "code",
   "execution_count": 9,
   "metadata": {},
   "outputs": [
    {
     "data": {
      "text/html": [
       "<div>\n",
       "<style scoped>\n",
       "    .dataframe tbody tr th:only-of-type {\n",
       "        vertical-align: middle;\n",
       "    }\n",
       "\n",
       "    .dataframe tbody tr th {\n",
       "        vertical-align: top;\n",
       "    }\n",
       "\n",
       "    .dataframe thead th {\n",
       "        text-align: right;\n",
       "    }\n",
       "</style>\n",
       "<table border=\"1\" class=\"dataframe\">\n",
       "  <thead>\n",
       "    <tr style=\"text-align: right;\">\n",
       "      <th></th>\n",
       "      <th>DS2</th>\n",
       "    </tr>\n",
       "  </thead>\n",
       "  <tbody>\n",
       "    <tr>\n",
       "      <th>accuracy</th>\n",
       "      <td>0.834615</td>\n",
       "    </tr>\n",
       "    <tr>\n",
       "      <th>macro-average-f1</th>\n",
       "      <td>0.774329</td>\n",
       "    </tr>\n",
       "    <tr>\n",
       "      <th>weighted-average-f1</th>\n",
       "      <td>0.827457</td>\n",
       "    </tr>\n",
       "  </tbody>\n",
       "</table>\n",
       "</div>"
      ],
      "text/plain": [
       "                          DS2\n",
       "accuracy             0.834615\n",
       "macro-average-f1     0.774329\n",
       "weighted-average-f1  0.827457"
      ]
     },
     "execution_count": 9,
     "metadata": {},
     "output_type": "execute_result"
    }
   ],
   "source": [
    "def compute_scores(y_test, y_pred):\n",
    "    return [\n",
    "        accuracy_score(y_test, y_pred),\n",
    "        f1_score(y_test, y_pred, average='macro'),\n",
    "        f1_score(y_test, y_pred, average='weighted')\n",
    "    ]\n",
    "\n",
    "model_desc = pd.DataFrame(index=['accuracy', 'macro-average-f1', 'weighted-average-f1'])\n",
    "\n",
    "model_desc['DS{}'.format(ds)] = compute_scores(y_test, y_pred)\n",
    "model_desc['DS{}'.format(ds)].to_frame().T.to_csv(output_csv, mode='a')\n",
    "model_desc"
   ]
  }
 ],
 "metadata": {
  "kernelspec": {
   "display_name": "Python 3",
   "language": "python",
   "name": "python3"
  },
  "language_info": {
   "codemirror_mode": {
    "name": "ipython",
    "version": 3
   },
   "file_extension": ".py",
   "mimetype": "text/x-python",
   "name": "python",
   "nbconvert_exporter": "python",
   "pygments_lexer": "ipython3",
   "version": "3.8.5"
  }
 },
 "nbformat": 4,
 "nbformat_minor": 4
}
