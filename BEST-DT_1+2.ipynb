{
 "cells": [
  {
   "cell_type": "code",
   "execution_count": 10,
   "metadata": {},
   "outputs": [],
   "source": [
    "import numpy as np\n",
    "import pandas as pd\n",
    "import matplotlib.pyplot as plt\n",
    "import sklearn\n",
    "from sklearn.metrics import confusion_matrix, plot_confusion_matrix, classification_report\n",
    "from sklearn.tree import DecisionTreeClassifier\n",
    "from sklearn.model_selection import GridSearchCV"
   ]
  },
  {
   "cell_type": "markdown",
   "metadata": {},
   "source": [
    "#### Load Datasets  \n",
    "_Change the value of `ds` to change dataset_"
   ]
  },
  {
   "cell_type": "code",
   "execution_count": 11,
   "metadata": {},
   "outputs": [],
   "source": [
    "# Change this line to change dataset between (ds = 1) and (ds = 2)\n",
    "ds = 2\n",
    "\n",
    "info = pd.read_csv('data/info_{0}.csv'. format(ds), index_col=0)\n",
    "train_data = pd.read_csv('data/train_{0}.csv'.format(ds), header=None)\n",
    "test_data = pd.read_csv('data/test_with_label_{0}.csv'.format(ds), header=None)\n",
    "\n",
    "model_name = 'Best-DT'\n",
    "output_csv = \"output/{0}-DS{1}.csv\".format(model_name, ds)"
   ]
  },
  {
   "cell_type": "code",
   "execution_count": 12,
   "metadata": {},
   "outputs": [],
   "source": [
    "# Data definitions\n",
    "X_train = train_data.iloc[:, :-1]\n",
    "y_train = train_data.iloc[:, -1]\n",
    "X_test = test_data.iloc[:, :-1]\n",
    "y_test = test_data.iloc[:, -1]"
   ]
  },
  {
   "cell_type": "markdown",
   "metadata": {},
   "source": [
    "#### Fit Data"
   ]
  },
  {
   "cell_type": "code",
   "execution_count": 13,
   "metadata": {},
   "outputs": [
    {
     "data": {
      "text/plain": [
       "GridSearchCV(cv=None, error_score=nan,\n",
       "             estimator=DecisionTreeClassifier(ccp_alpha=0.0, class_weight=None,\n",
       "                                              criterion='gini', max_depth=None,\n",
       "                                              max_features=None,\n",
       "                                              max_leaf_nodes=None,\n",
       "                                              min_impurity_decrease=0.0,\n",
       "                                              min_impurity_split=None,\n",
       "                                              min_samples_leaf=1,\n",
       "                                              min_samples_split=2,\n",
       "                                              min_weight_fraction_leaf=0.0,\n",
       "                                              presort='deprecated',\n",
       "                                              random_state=None,\n",
       "                                              splitter='best'),\n",
       "             iid='deprecated', n_jobs=None,\n",
       "             param_grid={'class_weight': ('balanced', None),\n",
       "                         'criterion': ('gini', 'entropy'),\n",
       "                         'max_depth': (10, None),\n",
       "                         'min_impurity_decrease': [0, 0.001, 0.01, 0.1],\n",
       "                         'min_samples_split': [2, 3, 4, 5]},\n",
       "             pre_dispatch='2*n_jobs', refit=True, return_train_score=False,\n",
       "             scoring=None, verbose=0)"
      ]
     },
     "execution_count": 13,
     "metadata": {},
     "output_type": "execute_result"
    }
   ],
   "source": [
    "DT_model = DecisionTreeClassifier()\n",
    "parameters = {'criterion':('gini', 'entropy'), 'max_depth':(10, None), 'min_samples_split':[2,3,4,5], 'min_impurity_decrease':[0, 0.001, 0.01, 0.1], 'class_weight': ('balanced', None)}\n",
    "BestDT_model = GridSearchCV(DT_model, parameters)\n",
    "BestDT_model.fit(X_train,y_train)"
   ]
  },
  {
   "cell_type": "markdown",
   "metadata": {},
   "source": [
    "#### Make Prediction"
   ]
  },
  {
   "cell_type": "code",
   "execution_count": 14,
   "metadata": {},
   "outputs": [],
   "source": [
    "y_pred = pd.Series(BestDT_model.predict(X_test))"
   ]
  },
  {
   "cell_type": "markdown",
   "metadata": {},
   "source": [
    "#### Output Prediction"
   ]
  },
  {
   "cell_type": "code",
   "execution_count": 15,
   "metadata": {},
   "outputs": [],
   "source": [
    "y_pred.to_csv(output_csv, header=None)"
   ]
  },
  {
   "cell_type": "markdown",
   "metadata": {},
   "source": [
    "#### Output Confusion Matrix and Plot"
   ]
  },
  {
   "cell_type": "code",
   "execution_count": 16,
   "metadata": {},
   "outputs": [
    {
     "data": {
      "image/png": "[encoded data removed]",
      "text/plain": [
       "<Figure size 1152x720 with 2 Axes>"
      ]
     },
     "metadata": {
      "needs_background": "light"
     },
     "output_type": "display_data"
    }
   ],
   "source": [
    "outmatrix = confusion_matrix(y_test, y_pred)\n",
    "\n",
    "fig, ax = plt.subplots(figsize=(16,10))\n",
    "plot_confusion_matrix(BestDT_model, X_test, y_test, cmap='Blues', ax=ax)\n",
    "ax.set_title('Perceptron Confusion Matrix for Test Data Set {0}'.format(ds))\n",
    "plt.savefig('img/{0}_confusion_matrix_DS{1}'.format(model_name, ds))\n",
    "plt.show()"
   ]
  },
  {
   "cell_type": "markdown",
   "metadata": {},
   "source": [
    "#### Compute Metrics per Class"
   ]
  },
  {
   "cell_type": "code",
   "execution_count": 17,
   "metadata": {},
   "outputs": [],
   "source": [
    "def compute_metrics(df, y_true, y_pred):\n",
    "    df_metrics = pd.DataFrame(classification_report(y_true, y_pred, target_names=df['symbol'], output_dict=True, zero_division=0)).T\n",
    "    df_metrics['symbol'] = df_metrics.index\n",
    "    df_metrics\n",
    "    return pd.merge(df, df_metrics, how='right')\n",
    "\n",
    "info = compute_metrics(info, y_test, y_pred)\n",
    "info.to_csv(output_csv, mode='a')"
   ]
  },
  {
   "cell_type": "markdown",
   "metadata": {},
   "source": [
    "#### Compute Metrics for the Model"
   ]
  },
  {
   "cell_type": "code",
   "execution_count": 18,
   "metadata": {},
   "outputs": [],
   "source": [
    "def compute_scores(y_test, y_pred):\n",
    "    return [\n",
    "        sklearn.metrics.accuracy_score(y_test, y_pred),\n",
    "        sklearn.metrics.f1_score(y_test, y_pred, average='macro'),\n",
    "        sklearn.metrics.f1_score(y_test, y_pred, average='weighted')\n",
    "    ]\n",
    "\n",
    "model_desc = pd.DataFrame(index=['accuracy', 'macro-average-f1', 'weighted-average-f1'])\n",
    "\n",
    "model_desc['DS{}'.format(ds)] = compute_scores(y_test, y_pred)\n",
    "model_desc['DS{}'.format(ds)].to_frame().T.to_csv(output_csv, mode='a')"
   ]
  },
  {
   "cell_type": "code",
   "execution_count": null,
   "metadata": {},
   "outputs": [],
   "source": []
  },
  {
   "cell_type": "code",
   "execution_count": null,
   "metadata": {},
   "outputs": [],
   "source": []
  }
 ],
 "metadata": {
  "kernelspec": {
   "display_name": "Python 3",
   "language": "python",
   "name": "python3"
  },
  "language_info": {
   "codemirror_mode": {
    "name": "ipython",
    "version": 3
   },
   "file_extension": ".py",
   "mimetype": "text/x-python",
   "name": "python",
   "nbconvert_exporter": "python",
   "pygments_lexer": "ipython3",
   "version": "3.7.6"
  }
 },
 "nbformat": 4,
 "nbformat_minor": 4
}
