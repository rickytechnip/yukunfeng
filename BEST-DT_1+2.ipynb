{
 "cells": [
  {
   "cell_type": "code",
   "execution_count": 1,
   "metadata": {},
   "outputs": [],
   "source": [
    "import numpy as np\n",
    "import pandas as pd\n",
    "import matplotlib.pyplot as plt\n",
    "import sklearn\n",
    "from sklearn.tree import DecisionTreeClassifier\n",
    "from sklearn.model_selection import GridSearchCV, PredefinedSplit\n",
    "from sklearn.metrics import confusion_matrix, plot_confusion_matrix, classification_report"
   ]
  },
  {
   "cell_type": "markdown",
   "metadata": {},
   "source": [
    "#### Load Datasets  \n",
    "_Change the value of `ds` to change dataset_"
   ]
  },
  {
   "cell_type": "code",
   "execution_count": 2,
   "metadata": {},
   "outputs": [],
   "source": [
    "# Change this line to change dataset between (ds = 1) and (ds = 2)\n",
    "ds = 2\n",
    "\n",
    "info = pd.read_csv('data/info_{0}.csv'. format(ds), index_col=0)\n",
    "train_data = pd.read_csv('data/train_{0}.csv'.format(ds), header=None)\n",
    "val_data = pd.read_csv('data/val_{0}.csv'.format(ds), header=None)\n",
    "test_data = pd.read_csv('data/test_with_label_{0}.csv'.format(ds), header=None)\n",
    "\n",
    "model_name = 'Best-DT'\n",
    "output_csv = \"output/{0}-DS{1}.csv\".format(model_name, ds)"
   ]
  },
  {
   "cell_type": "code",
   "execution_count": 3,
   "metadata": {},
   "outputs": [],
   "source": [
    "# Data definitions\n",
    "X_train = train_data.iloc[:, :-1]\n",
    "y_train = train_data.iloc[:, -1]\n",
    "X_val = val_data.iloc[:, :-1]\n",
    "y_val = val_data.iloc[:, -1]\n",
    "X_test = test_data.iloc[:, :-1]\n",
    "y_test = test_data.iloc[:, -1]\n",
    "\n",
    "#join train and validation sets for grid search\n",
    "X = pd.concat([X_train, X_val], axis=0)\n",
    "y = pd.concat([y_train, y_val], axis=0)"
   ]
  },
  {
   "cell_type": "markdown",
   "metadata": {},
   "source": [
    "#### Predefine split of train and validation set Fit Data"
   ]
  },
  {
   "cell_type": "code",
   "execution_count": 4,
   "metadata": {},
   "outputs": [],
   "source": [
    "test_fold = np.concatenate([np.repeat(-1, len(X_train.index)), \n",
    "                            np.repeat(0, len(X_val.index))], axis = 0)\n",
    "ps = PredefinedSplit(test_fold=test_fold)"
   ]
  },
  {
   "cell_type": "markdown",
   "metadata": {},
   "source": [
    "#### Fit Data"
   ]
  },
  {
   "cell_type": "code",
   "execution_count": 5,
   "metadata": {},
   "outputs": [
    {
     "data": {
      "text/plain": [
       "GridSearchCV(cv=PredefinedSplit(test_fold=array([-1, -1, ...,  0,  0])),\n",
       "             estimator=DecisionTreeClassifier(random_state=42), n_jobs=-1,\n",
       "             param_grid={'class_weight': ['balanced', None],\n",
       "                         'criterion': ['gini', 'entropy'],\n",
       "                         'max_depth': [10, None],\n",
       "                         'min_impurity_decrease': [0, 0.001, 0.01, 0.1],\n",
       "                         'min_samples_split': [2, 3, 4, 5]})"
      ]
     },
     "execution_count": 5,
     "metadata": {},
     "output_type": "execute_result"
    }
   ],
   "source": [
    "DT_model = DecisionTreeClassifier(random_state=42)\n",
    "parameters = {'criterion':['gini', 'entropy'], 'max_depth':[10, None], 'min_samples_split':[2,3,4,5], 'min_impurity_decrease':[0, 0.001, 0.01, 0.1], 'class_weight': ['balanced', None]}\n",
    "BestDT_model = GridSearchCV(DT_model, parameters, n_jobs=-1, cv=ps)\n",
    "BestDT_model.fit(X, y)"
   ]
  },
  {
   "cell_type": "code",
   "execution_count": 6,
   "metadata": {},
   "outputs": [
    {
     "name": "stdout",
     "output_type": "stream",
     "text": [
      "Best Parameters: {'class_weight': None, 'criterion': 'entropy', 'max_depth': None, 'min_impurity_decrease': 0.001, 'min_samples_split': 2}\n",
      "Best Score: 0.7762820512820513\n"
     ]
    }
   ],
   "source": [
    "print('Best Parameters: {}'.format(BestDT_model.best_params_))\n",
    "print('Best Score: {}'.format(BestDT_model.best_score_))"
   ]
  },
  {
   "cell_type": "markdown",
   "metadata": {},
   "source": [
    "#### Make and Output Prediction"
   ]
  },
  {
   "cell_type": "code",
   "execution_count": 7,
   "metadata": {},
   "outputs": [
    {
     "data": {
      "text/plain": [
       "0      9\n",
       "1      0\n",
       "2      5\n",
       "3      5\n",
       "4      9\n",
       "      ..\n",
       "515    0\n",
       "516    1\n",
       "517    9\n",
       "518    6\n",
       "519    5\n",
       "Length: 520, dtype: int64"
      ]
     },
     "execution_count": 7,
     "metadata": {},
     "output_type": "execute_result"
    }
   ],
   "source": [
    "y_pred = pd.Series(BestDT_model.predict(X_test))\n",
    "y_pred.to_csv(output_csv, header=None)\n",
    "y_pred"
   ]
  },
  {
   "cell_type": "markdown",
   "metadata": {},
   "source": [
    "#### Output Confusion Matrix and Plot"
   ]
  },
  {
   "cell_type": "code",
   "execution_count": 8,
   "metadata": {},
   "outputs": [
    {
     "data": {
      "image/png": "[encoded data removed]",
      "text/plain": [
       "<Figure size 1152x720 with 2 Axes>"
      ]
     },
     "metadata": {
      "needs_background": "light"
     },
     "output_type": "display_data"
    }
   ],
   "source": [
    "outmatrix = confusion_matrix(y_test, y_pred)\n",
    "\n",
    "fig, ax = plt.subplots(figsize=(16,10))\n",
    "plot_confusion_matrix(BestDT_model, X_test, y_test, cmap='Blues', ax=ax)\n",
    "ax.set_title('{0} Confusion Matrix for Test Data Set {1}'.format(model_name, ds))\n",
    "plt.savefig('img/{0}_confusion_matrix_DS{1}'.format(model_name, ds))\n",
    "plt.show()"
   ]
  },
  {
   "cell_type": "markdown",
   "metadata": {},
   "source": [
    "#### Compute Metrics per Class"
   ]
  },
  {
   "cell_type": "code",
   "execution_count": 9,
   "metadata": {},
   "outputs": [
    {
     "data": {
      "text/html": [
       "<div>\n",
       "<style scoped>\n",
       "    .dataframe tbody tr th:only-of-type {\n",
       "        vertical-align: middle;\n",
       "    }\n",
       "\n",
       "    .dataframe tbody tr th {\n",
       "        vertical-align: top;\n",
       "    }\n",
       "\n",
       "    .dataframe thead th {\n",
       "        text-align: right;\n",
       "    }\n",
       "</style>\n",
       "<table border=\"1\" class=\"dataframe\">\n",
       "  <thead>\n",
       "    <tr style=\"text-align: right;\">\n",
       "      <th></th>\n",
       "      <th>symbol</th>\n",
       "      <th>precision</th>\n",
       "      <th>recall</th>\n",
       "      <th>f1-score</th>\n",
       "      <th>support</th>\n",
       "    </tr>\n",
       "  </thead>\n",
       "  <tbody>\n",
       "    <tr>\n",
       "      <th>0</th>\n",
       "      <td>pi</td>\n",
       "      <td>0.725806</td>\n",
       "      <td>0.818182</td>\n",
       "      <td>0.769231</td>\n",
       "      <td>55.000000</td>\n",
       "    </tr>\n",
       "    <tr>\n",
       "      <th>1</th>\n",
       "      <td>alpha</td>\n",
       "      <td>0.900826</td>\n",
       "      <td>0.872000</td>\n",
       "      <td>0.886179</td>\n",
       "      <td>125.000000</td>\n",
       "    </tr>\n",
       "    <tr>\n",
       "      <th>2</th>\n",
       "      <td>beta</td>\n",
       "      <td>0.388889</td>\n",
       "      <td>0.466667</td>\n",
       "      <td>0.424242</td>\n",
       "      <td>15.000000</td>\n",
       "    </tr>\n",
       "    <tr>\n",
       "      <th>3</th>\n",
       "      <td>sigma</td>\n",
       "      <td>0.727273</td>\n",
       "      <td>0.533333</td>\n",
       "      <td>0.615385</td>\n",
       "      <td>15.000000</td>\n",
       "    </tr>\n",
       "    <tr>\n",
       "      <th>4</th>\n",
       "      <td>gamma</td>\n",
       "      <td>0.510204</td>\n",
       "      <td>0.500000</td>\n",
       "      <td>0.505051</td>\n",
       "      <td>50.000000</td>\n",
       "    </tr>\n",
       "    <tr>\n",
       "      <th>5</th>\n",
       "      <td>delta</td>\n",
       "      <td>0.716667</td>\n",
       "      <td>0.781818</td>\n",
       "      <td>0.747826</td>\n",
       "      <td>55.000000</td>\n",
       "    </tr>\n",
       "    <tr>\n",
       "      <th>6</th>\n",
       "      <td>lambda</td>\n",
       "      <td>0.600000</td>\n",
       "      <td>0.400000</td>\n",
       "      <td>0.480000</td>\n",
       "      <td>15.000000</td>\n",
       "    </tr>\n",
       "    <tr>\n",
       "      <th>7</th>\n",
       "      <td>omega</td>\n",
       "      <td>0.928571</td>\n",
       "      <td>0.866667</td>\n",
       "      <td>0.896552</td>\n",
       "      <td>15.000000</td>\n",
       "    </tr>\n",
       "    <tr>\n",
       "      <th>8</th>\n",
       "      <td>mu</td>\n",
       "      <td>0.793103</td>\n",
       "      <td>0.920000</td>\n",
       "      <td>0.851852</td>\n",
       "      <td>50.000000</td>\n",
       "    </tr>\n",
       "    <tr>\n",
       "      <th>9</th>\n",
       "      <td>xi</td>\n",
       "      <td>0.829060</td>\n",
       "      <td>0.776000</td>\n",
       "      <td>0.801653</td>\n",
       "      <td>125.000000</td>\n",
       "    </tr>\n",
       "    <tr>\n",
       "      <th>10</th>\n",
       "      <td>accuracy</td>\n",
       "      <td>0.767308</td>\n",
       "      <td>0.767308</td>\n",
       "      <td>0.767308</td>\n",
       "      <td>0.767308</td>\n",
       "    </tr>\n",
       "    <tr>\n",
       "      <th>11</th>\n",
       "      <td>macro avg</td>\n",
       "      <td>0.712040</td>\n",
       "      <td>0.693467</td>\n",
       "      <td>0.697797</td>\n",
       "      <td>520.000000</td>\n",
       "    </tr>\n",
       "    <tr>\n",
       "      <th>12</th>\n",
       "      <td>weighted avg</td>\n",
       "      <td>0.770016</td>\n",
       "      <td>0.767308</td>\n",
       "      <td>0.766356</td>\n",
       "      <td>520.000000</td>\n",
       "    </tr>\n",
       "  </tbody>\n",
       "</table>\n",
       "</div>"
      ],
      "text/plain": [
       "          symbol  precision    recall  f1-score     support\n",
       "0             pi   0.725806  0.818182  0.769231   55.000000\n",
       "1          alpha   0.900826  0.872000  0.886179  125.000000\n",
       "2           beta   0.388889  0.466667  0.424242   15.000000\n",
       "3          sigma   0.727273  0.533333  0.615385   15.000000\n",
       "4          gamma   0.510204  0.500000  0.505051   50.000000\n",
       "5          delta   0.716667  0.781818  0.747826   55.000000\n",
       "6         lambda   0.600000  0.400000  0.480000   15.000000\n",
       "7          omega   0.928571  0.866667  0.896552   15.000000\n",
       "8             mu   0.793103  0.920000  0.851852   50.000000\n",
       "9             xi   0.829060  0.776000  0.801653  125.000000\n",
       "10      accuracy   0.767308  0.767308  0.767308    0.767308\n",
       "11     macro avg   0.712040  0.693467  0.697797  520.000000\n",
       "12  weighted avg   0.770016  0.767308  0.766356  520.000000"
      ]
     },
     "execution_count": 9,
     "metadata": {},
     "output_type": "execute_result"
    }
   ],
   "source": [
    "def compute_metrics(df, y_true, y_pred):\n",
    "    df_metrics = pd.DataFrame(classification_report(y_true, y_pred, target_names=df['symbol'], output_dict=True, zero_division=0)).T\n",
    "    df_metrics['symbol'] = df_metrics.index\n",
    "    df_metrics\n",
    "    return pd.merge(df, df_metrics, how='right')\n",
    "\n",
    "info = compute_metrics(info, y_test, y_pred)\n",
    "info.to_csv(output_csv, mode='a')\n",
    "info"
   ]
  },
  {
   "cell_type": "markdown",
   "metadata": {},
   "source": [
    "#### Compute Metrics for the Model"
   ]
  },
  {
   "cell_type": "code",
   "execution_count": 10,
   "metadata": {},
   "outputs": [
    {
     "data": {
      "text/html": [
       "<div>\n",
       "<style scoped>\n",
       "    .dataframe tbody tr th:only-of-type {\n",
       "        vertical-align: middle;\n",
       "    }\n",
       "\n",
       "    .dataframe tbody tr th {\n",
       "        vertical-align: top;\n",
       "    }\n",
       "\n",
       "    .dataframe thead th {\n",
       "        text-align: right;\n",
       "    }\n",
       "</style>\n",
       "<table border=\"1\" class=\"dataframe\">\n",
       "  <thead>\n",
       "    <tr style=\"text-align: right;\">\n",
       "      <th></th>\n",
       "      <th>DS2</th>\n",
       "    </tr>\n",
       "  </thead>\n",
       "  <tbody>\n",
       "    <tr>\n",
       "      <th>accuracy</th>\n",
       "      <td>0.767308</td>\n",
       "    </tr>\n",
       "    <tr>\n",
       "      <th>macro-average-f1</th>\n",
       "      <td>0.697797</td>\n",
       "    </tr>\n",
       "    <tr>\n",
       "      <th>weighted-average-f1</th>\n",
       "      <td>0.766356</td>\n",
       "    </tr>\n",
       "  </tbody>\n",
       "</table>\n",
       "</div>"
      ],
      "text/plain": [
       "                          DS2\n",
       "accuracy             0.767308\n",
       "macro-average-f1     0.697797\n",
       "weighted-average-f1  0.766356"
      ]
     },
     "execution_count": 10,
     "metadata": {},
     "output_type": "execute_result"
    }
   ],
   "source": [
    "def compute_scores(y_test, y_pred):\n",
    "    return [\n",
    "        sklearn.metrics.accuracy_score(y_test, y_pred),\n",
    "        sklearn.metrics.f1_score(y_test, y_pred, average='macro'),\n",
    "        sklearn.metrics.f1_score(y_test, y_pred, average='weighted')\n",
    "    ]\n",
    "\n",
    "model_desc = pd.DataFrame(index=['accuracy', 'macro-average-f1', 'weighted-average-f1'])\n",
    "\n",
    "model_desc['DS{}'.format(ds)] = compute_scores(y_test, y_pred)\n",
    "model_desc['DS{}'.format(ds)].to_frame().T.to_csv(output_csv, mode='a')\n",
    "model_desc"
   ]
  }
 ],
 "metadata": {
  "kernelspec": {
   "display_name": "Python 3",
   "language": "python",
   "name": "python3"
  },
  "language_info": {
   "codemirror_mode": {
    "name": "ipython",
    "version": 3
   },
   "file_extension": ".py",
   "mimetype": "text/x-python",
   "name": "python",
   "nbconvert_exporter": "python",
   "pygments_lexer": "ipython3",
   "version": "3.8.5"
  }
 },
 "nbformat": 4,
 "nbformat_minor": 4
}
