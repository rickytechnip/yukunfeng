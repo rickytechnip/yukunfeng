{
 "cells": [
  {
   "cell_type": "code",
   "execution_count": 44,
   "metadata": {},
   "outputs": [],
   "source": [
    "import numpy as np\n",
    "import sklearn\n",
    "import csv\n",
    "from sklearn.naive_bayes import GaussianNB\n",
    "from sklearn.metrics import confusion_matrix"
   ]
  },
  {
   "cell_type": "code",
   "execution_count": 30,
   "metadata": {},
   "outputs": [],
   "source": [
    "input1 = np.loadtxt('data/train_1.csv', delimiter=',')\n",
    "test1 = np.loadtxt('data/test_with_label_1.csv', delimiter=',')\n",
    "X1 = input1[:, 0:1024]\n",
    "y1 = input1[:, 1024]\n",
    "Xv1 = test1[:, 0:1024]\n",
    "yv1 = test1[:, 1024]"
   ]
  },
  {
   "cell_type": "code",
   "execution_count": 46,
   "metadata": {},
   "outputs": [
    {
     "data": {
      "text/plain": [
       "GaussianNB(priors=None, var_smoothing=0.5)"
      ]
     },
     "execution_count": 46,
     "metadata": {},
     "output_type": "execute_result"
    }
   ],
   "source": [
    "model1 = sklearn.naive_bayes.GaussianNB(var_smoothing=0.5)\n",
    "model1.fit(X1,y1)"
   ]
  },
  {
   "cell_type": "code",
   "execution_count": 47,
   "metadata": {},
   "outputs": [],
   "source": [
    "pred1 = model1.predict(Xv1)"
   ]
  },
  {
   "cell_type": "code",
   "execution_count": 48,
   "metadata": {},
   "outputs": [],
   "source": [
    "array1 = np.stack((np.arange(80), pred1), axis=-1).astype(int)\n",
    "np.savetxt(\"output/GNB-DS1.csv\", array1, delimiter=\",\", fmt='% 1d')"
   ]
  },
  {
   "cell_type": "code",
   "execution_count": 49,
   "metadata": {},
   "outputs": [],
   "source": [
    "with open('output/GNB-DS1.csv','a') as fd:\n",
    "    fd.write(\"Below is the Confusion matrix \\n\")"
   ]
  },
  {
   "cell_type": "code",
   "execution_count": 50,
   "metadata": {},
   "outputs": [],
   "source": [
    "outmatrix = sklearn.metrics.confusion_matrix(yv1, pred1)\n",
    "outlist = outmatrix.tolist()\n",
    "with open(\"output/GNB-DS1.csv\", \"a\", newline=\"\") as fd:\n",
    "    writer = csv.writer(fd)\n",
    "    writer.writerows(outlist)\n",
    "    writer.writerows(\"\\n\")"
   ]
  },
  {
   "cell_type": "code",
   "execution_count": 51,
   "metadata": {},
   "outputs": [],
   "source": [
    "prec = sklearn.metrics.precision_score(yv1, pred1, average=None).tolist()\n",
    "reca = sklearn.metrics.recall_score(yv1, pred1, average=None).tolist()\n",
    "f1 = sklearn.metrics.f1_score(yv1, pred1, average=None).tolist()\n",
    "\n",
    "with open('output/GNB-DS1.csv','a') as fd:\n",
    "    fd.write(\"Below is the precision recall and f1 measure per class \\n\")\n",
    "\n",
    "with open(\"output/GNB-DS1.csv\", \"a\", newline=\"\") as fd:\n",
    "    writer = csv.writer(fd)\n",
    "    writer.writerow(prec)\n",
    "    writer.writerow(reca)\n",
    "    writer.writerow(f1)\n",
    "    writer.writerows(\"\\n\")"
   ]
  },
  {
   "cell_type": "code",
   "execution_count": 52,
   "metadata": {},
   "outputs": [],
   "source": [
    "accu = sklearn.metrics.accuracy_score(yv1, pred1)\n",
    "macro = sklearn.metrics.f1_score(yv1, pred1, average='macro')\n",
    "weight = sklearn.metrics.f1_score(yv1, pred1, average='weighted')\n",
    "\n",
    "with open('output/GNB-DS1.csv','a', newline=\"\") as fd:\n",
    "    fd.write(\"The accuracy is \"+ str(accu) + \"and  macro F1 is \" + str(macro) + \"and  weighted F1 is \" + str(weight))"
   ]
  }
 ],
 "metadata": {
  "kernelspec": {
   "display_name": "Python 3",
   "language": "python",
   "name": "python3"
  },
  "language_info": {
   "codemirror_mode": {
    "name": "ipython",
    "version": 3
   },
   "file_extension": ".py",
   "mimetype": "text/x-python",
   "name": "python",
   "nbconvert_exporter": "python",
   "pygments_lexer": "ipython3",
   "version": "3.8.3"
  }
 },
 "nbformat": 4,
 "nbformat_minor": 4
}