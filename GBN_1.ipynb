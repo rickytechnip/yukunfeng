{
 "cells": [
  {
   "cell_type": "code",
   "execution_count": 1,
   "metadata": {},
   "outputs": [],
   "source": [
    "import numpy as np\n",
    "import sklearn\n",
    "import csv\n",
    "from sklearn.naive_bayes import GaussianNB\n",
    "from sklearn.metrics import confusion_matrix"
   ]
  },
  {
   "cell_type": "code",
   "execution_count": 2,
   "metadata": {},
   "outputs": [],
   "source": [
    "train_data = np.loadtxt('data/train_1.csv', delimiter=',')\n",
    "test_data = np.loadtxt('data/test_with_label_1.csv', delimiter=',')\n",
    "X_train = train_data[:, 0:1024]\n",
    "y_train = train_data[:, 1024]\n",
    "X_test = test_data[:, 0:1024]\n",
    "y_test = test_data[:, 1024]"
   ]
  },
  {
   "cell_type": "code",
   "execution_count": 3,
   "metadata": {},
   "outputs": [
    {
     "data": {
      "text/plain": [
       "GaussianNB()"
      ]
     },
     "execution_count": 3,
     "metadata": {},
     "output_type": "execute_result"
    }
   ],
   "source": [
    "gnb_model = sklearn.naive_bayes.GaussianNB()\n",
    "gnb_model.fit(X_train,y_train)"
   ]
  },
  {
   "cell_type": "code",
   "execution_count": 4,
   "metadata": {},
   "outputs": [],
   "source": [
    "y_pred = gnb_model.predict(X_test)"
   ]
  },
  {
   "cell_type": "code",
   "execution_count": 5,
   "metadata": {},
   "outputs": [],
   "source": [
    "output_pred = np.column_stack((np.arange(y_pred.shape[0]), y_pred)).astype(np.int)\n",
    "np.savetxt(\"output/GNB-DS1.csv\", output_pred, delimiter=\",\", fmt='% 1d')"
   ]
  },
  {
   "cell_type": "code",
   "execution_count": 6,
   "metadata": {},
   "outputs": [],
   "source": [
    "with open('output/GNB-DS1.csv','a') as fd:\n",
    "    fd.write(\"Below is the Confusion matrix \\n\")"
   ]
  },
  {
   "cell_type": "code",
   "execution_count": 7,
   "metadata": {},
   "outputs": [],
   "source": [
    "outmatrix = sklearn.metrics.confusion_matrix(y_test, y_pred)\n",
    "outlist = outmatrix.tolist()\n",
    "with open(\"output/GNB-DS1.csv\", \"a\", newline=\"\") as fd:\n",
    "    writer = csv.writer(fd)\n",
    "    writer.writerows(outlist)\n",
    "    writer.writerows(\"\\n\")"
   ]
  },
  {
   "cell_type": "code",
   "execution_count": 8,
   "metadata": {},
   "outputs": [
    {
     "name": "stderr",
     "output_type": "stream",
     "text": [
      "C:\\Users\\yuxiang\\anaconda3\\lib\\site-packages\\sklearn\\metrics\\_classification.py:1221: UndefinedMetricWarning: Precision is ill-defined and being set to 0.0 in labels with no predicted samples. Use `zero_division` parameter to control this behavior.\n",
      "  _warn_prf(average, modifier, msg_start, len(result))\n"
     ]
    }
   ],
   "source": [
    "prec = sklearn.metrics.precision_score(y_test, y_pred, average=None).tolist()\n",
    "reca = sklearn.metrics.recall_score(y_test, y_pred, average=None).tolist()\n",
    "f1 = sklearn.metrics.f1_score(y_test, y_pred, average=None).tolist()\n",
    "\n",
    "with open('output/GNB-DS1.csv','a') as fd:\n",
    "    fd.write(\"Below is the precision recall and f1 measure per class \\n\")\n",
    "\n",
    "with open(\"output/GNB-DS1.csv\", \"a\", newline=\"\") as fd:\n",
    "    writer = csv.writer(fd)\n",
    "    writer.writerow(prec)\n",
    "    writer.writerow(reca)\n",
    "    writer.writerow(f1)\n",
    "    writer.writerows(\"\\n\")"
   ]
  },
  {
   "cell_type": "code",
   "execution_count": 9,
   "metadata": {},
   "outputs": [],
   "source": [
    "accu = sklearn.metrics.accuracy_score(y_test, y_pred)\n",
    "macro = sklearn.metrics.f1_score(y_test, y_pred, average='macro')\n",
    "weight = sklearn.metrics.f1_score(y_test, y_pred, average='weighted')\n",
    "\n",
    "with open('output/GNB-DS1.csv','a', newline=\"\") as fd:\n",
    "    fd.write(\"The accuracy is \"+ str(accu) + \"and  macro F1 is \" + str(macro) + \"and  weighted F1 is \" + str(weight))"
   ]
  }
 ],
 "metadata": {
  "kernelspec": {
   "display_name": "Python 3",
   "language": "python",
   "name": "python3"
  },
  "language_info": {
   "codemirror_mode": {
    "name": "ipython",
    "version": 3
   },
   "file_extension": ".py",
   "mimetype": "text/x-python",
   "name": "python",
   "nbconvert_exporter": "python",
   "pygments_lexer": "ipython3",
   "version": "3.8.3"
  }
 },
 "nbformat": 4,
 "nbformat_minor": 4
}
