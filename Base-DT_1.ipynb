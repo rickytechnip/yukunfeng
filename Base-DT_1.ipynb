{
 "cells": [
  {
   "cell_type": "code",
   "execution_count": 29,
   "metadata": {},
   "outputs": [],
   "source": [
    "import numpy as np\n",
    "import sklearn\n",
    "import csv\n",
    "from sklearn.naive_bayes import GaussianNB\n",
    "from sklearn.metrics import confusion_matrix\n",
    "from sklearn.tree import DecisionTreeClassifier"
   ]
  },
  {
   "cell_type": "code",
   "execution_count": 30,
   "metadata": {},
   "outputs": [],
   "source": [
    "input1 = np.loadtxt(open(\"train_1.csv\", \"rb\"), delimiter=',')\n",
    "test1 = np.loadtxt(open(\"test_with_label_1.csv\", \"rb\"), delimiter=',')\n",
    "X1 = input1[:, 0:1024]\n",
    "y1 = input1[:, 1024]\n",
    "Xv1 = test1[:, 0:1024]\n",
    "yv1 = test1[:, 1024]"
   ]
  },
  {
   "cell_type": "code",
   "execution_count": 31,
   "metadata": {},
   "outputs": [
    {
     "data": {
      "text/plain": [
       "DecisionTreeClassifier(ccp_alpha=0.0, class_weight=None, criterion='entropy',\n",
       "                       max_depth=None, max_features=None, max_leaf_nodes=None,\n",
       "                       min_impurity_decrease=0.0, min_impurity_split=None,\n",
       "                       min_samples_leaf=1, min_samples_split=2,\n",
       "                       min_weight_fraction_leaf=0.0, presort='deprecated',\n",
       "                       random_state=None, splitter='best')"
      ]
     },
     "execution_count": 31,
     "metadata": {},
     "output_type": "execute_result"
    }
   ],
   "source": [
    "model1 = DecisionTreeClassifier(criterion='entropy')\n",
    "model1.fit(X1,y1)"
   ]
  },
  {
   "cell_type": "code",
   "execution_count": 32,
   "metadata": {},
   "outputs": [],
   "source": [
    "pred1 = model1.predict(Xv1)"
   ]
  },
  {
   "cell_type": "code",
   "execution_count": 33,
   "metadata": {},
   "outputs": [],
   "source": [
    "array1 = np.stack((np.arange(80), pred1), axis=-1).astype(int)\n",
    "np.savetxt(\"Base-DT-DS1.csv\", array1, delimiter=\",\", fmt='% 1d')"
   ]
  },
  {
   "cell_type": "code",
   "execution_count": 34,
   "metadata": {},
   "outputs": [],
   "source": [
    "with open('Base-DT-DS1.csv','a') as fd:\n",
    "    fd.write(\"Below is the Confusion matrix \\n\")"
   ]
  },
  {
   "cell_type": "code",
   "execution_count": 35,
   "metadata": {},
   "outputs": [],
   "source": [
    "outmatrix = sklearn.metrics.confusion_matrix(yv1, pred1)\n",
    "outlist = outmatrix.tolist()\n",
    "with open(\"Base-DT-DS1.csv\", \"a\", newline=\"\") as fd:\n",
    "    writer = csv.writer(fd)\n",
    "    writer.writerows(outlist)\n",
    "    writer.writerows(\"\\n\")"
   ]
  },
  {
   "cell_type": "code",
   "execution_count": 43,
   "metadata": {},
   "outputs": [],
   "source": [
    "prec = sklearn.metrics.precision_score(yv1, pred1, average=None).tolist()\n",
    "reca = sklearn.metrics.recall_score(yv1, pred1, average=None).tolist()\n",
    "f1 = sklearn.metrics.f1_score(yv1, pred1, average=None).tolist()\n",
    "\n",
    "with open('Base-DT-DS1.csv','a') as fd:\n",
    "    fd.write(\"Below is the precision recall and f1 measure per class \\n\")\n",
    "\n",
    "with open(\"Base-DT-DS1.csv\", \"a\", newline=\"\") as fd:\n",
    "    writer = csv.writer(fd)\n",
    "    writer.writerow(prec)\n",
    "    writer.writerow(reca)\n",
    "    writer.writerow(f1)\n",
    "    writer.writerows(\"\\n\")"
   ]
  },
  {
   "cell_type": "code",
   "execution_count": 44,
   "metadata": {},
   "outputs": [
    {
     "data": {
      "text/plain": [
       "array([ 4., 13.,  7.,  2., 18., 17., 11., 23., 22., 20.,  2.,  9., 11.,\n",
       "       19.,  4.,  5.,  6.,  8.,  2.,  0., 16.,  0., 25., 17.,  9.,  1.,\n",
       "       21.,  8., 24., 12.,  3., 23., 17., 16., 10., 10., 18.,  9., 15.,\n",
       "        5., 16., 11., 13.,  1., 13., 10., 25., 14., 24.,  0.,  7.,  3.,\n",
       "       22., 20.,  3., 14., 25.,  9., 15., 14.,  7.,  2., 11., 12.,  0.,\n",
       "        6.,  6., 20., 12., 13., 24., 22., 21.,  8., 21., 18., 15., 17.,\n",
       "        6., 19.])"
      ]
     },
     "execution_count": 44,
     "metadata": {},
     "output_type": "execute_result"
    }
   ],
   "source": [
    "yv1"
   ]
  },
  {
   "cell_type": "code",
   "execution_count": 45,
   "metadata": {},
   "outputs": [
    {
     "data": {
      "text/plain": [
       "array([25., 13., 22.,  2., 18., 17., 11., 22., 13., 20., 19.,  9., 11.,\n",
       "       14.,  4.,  5.,  6.,  3.,  2., 12.,  4.,  0.,  9., 17.,  9.,  4.,\n",
       "       22., 20., 23., 24., 25., 23., 19., 14., 20., 24.,  2., 19.,  1.,\n",
       "       17., 25., 20., 13., 15., 13., 21., 13., 14., 24.,  0.,  7.,  3.,\n",
       "       22., 20., 15.,  6., 23.,  9.,  5., 14., 13.,  2., 11., 10.,  0.,\n",
       "        0.,  2., 20., 24., 21., 24.,  0., 21.,  8., 21., 18., 15.,  5.,\n",
       "        2., 19.])"
      ]
     },
     "execution_count": 45,
     "metadata": {},
     "output_type": "execute_result"
    }
   ],
   "source": [
    "pred1"
   ]
  },
  {
   "cell_type": "code",
   "execution_count": 46,
   "metadata": {},
   "outputs": [],
   "source": [
    "accu = sklearn.metrics.accuracy_score(yv1, pred1)\n",
    "macro = sklearn.metrics.f1_score(yv1, pred1, average='macro')\n",
    "weight = sklearn.metrics.f1_score(yv1, pred1, average='weighted')\n",
    "\n",
    "with open('Base-DT-DS1.csv','a', newline=\"\") as fd:\n",
    "    fd.write(\"The accuracy is \"+ str(accu) + \"and  macro F1 is \" + str(macro) + \"and  weighted F1 is \" + str(weight))"
   ]
  },
  {
   "cell_type": "code",
   "execution_count": null,
   "metadata": {},
   "outputs": [],
   "source": []
  },
  {
   "cell_type": "code",
   "execution_count": null,
   "metadata": {},
   "outputs": [],
   "source": []
  },
  {
   "cell_type": "code",
   "execution_count": null,
   "metadata": {},
   "outputs": [],
   "source": []
  },
  {
   "cell_type": "code",
   "execution_count": null,
   "metadata": {},
   "outputs": [],
   "source": []
  }
 ],
 "metadata": {
  "kernelspec": {
   "display_name": "Python 3",
   "language": "python",
   "name": "python3"
  },
  "language_info": {
   "codemirror_mode": {
    "name": "ipython",
    "version": 3
   },
   "file_extension": ".py",
   "mimetype": "text/x-python",
   "name": "python",
   "nbconvert_exporter": "python",
   "pygments_lexer": "ipython3",
   "version": "3.7.6"
  }
 },
 "nbformat": 4,
 "nbformat_minor": 4
}
