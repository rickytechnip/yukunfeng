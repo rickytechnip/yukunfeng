{
 "cells": [
  {
   "cell_type": "code",
   "execution_count": null,
   "metadata": {},
   "outputs": [],
   "source": [
    "import numpy as np\n",
    "import matplotlib\n",
    "import matplotlib.pyplot as plt\n",
    "import pandas as pd"
   ]
  },
  {
   "cell_type": "code",
   "execution_count": null,
   "metadata": {},
   "outputs": [],
   "source": [
    "plt.style.use('seaborn')"
   ]
  },
  {
   "cell_type": "code",
   "execution_count": null,
   "metadata": {},
   "outputs": [],
   "source": [
    "import os\n",
    "\n",
    "files = [\n",
    "    ['test_with_label_1.csv', 'train_1.csv', 'val_1.csv'], ['test_with_label_2.csv', 'train_2.csv', 'val_2.csv']\n",
    "]\n",
    "\n",
    "col_iloc = 0 + 32*32\n",
    "d1_class_ser = [pd.read_csv('data/' + f, usecols=[col_iloc], header=None, squeeze=True) for f in files[0]]\n",
    "d2_class_ser = [pd.read_csv('data/' + f, usecols=[col_iloc], header=None, squeeze=True) for f in files[1]]"
   ]
  },
  {
   "cell_type": "code",
   "execution_count": null,
   "metadata": {},
   "outputs": [],
   "source": [
    "def gen_dist(pd_ser_list, file_names):\n",
    "    fig, axs = plt.subplots(len(pd_ser_list), sharex=True)\n",
    "    for i, ser in enumerate(pd_ser_list):\n",
    "        ser.hist(ax=axs[i], bins=np.arange(-0.5, ser.max() + 1), edgecolor='white', zorder=5)\n",
    "        axs[i].set_xticks(np.arange(0, ser.max() + 1))\n",
    "        axs[i].set_title(file_names[i][0:-4] + ' Class Distribution')\n",
    "        axs[i].set(xlabel='Class #', ylabel='Count')\n",
    "        axs[i].label_outer()\n",
    "    fig.set_size_inches(16, len(pd_ser_list) * 5)\n",
    "    plt.show()"
   ]
  },
  {
   "cell_type": "code",
   "execution_count": null,
   "metadata": {},
   "outputs": [],
   "source": [
    "gen_dist(d1_class_ser, files[0])"
   ]
  },
  {
   "cell_type": "code",
   "execution_count": null,
   "metadata": {},
   "outputs": [],
   "source": [
    "gen_dist(d2_class_ser, files[1])"
   ]
  },
  {
   "cell_type": "markdown",
   "metadata": {},
   "source": [
    "Frequency plots: https://etav.github.io/python/count_basic_freq_plot.html"
   ]
  }
 ],
 "metadata": {
  "kernelspec": {
   "display_name": "Python 3",
   "language": "python",
   "name": "python3"
  },
  "language_info": {
   "codemirror_mode": {
    "name": "ipython",
    "version": 3
   },
   "file_extension": ".py",
   "mimetype": "text/x-python",
   "name": "python",
   "nbconvert_exporter": "python",
   "pygments_lexer": "ipython3",
   "version": "3.7.6"
  }
 },
 "nbformat": 4,
 "nbformat_minor": 4
}
